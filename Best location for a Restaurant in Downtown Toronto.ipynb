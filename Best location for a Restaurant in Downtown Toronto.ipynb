{
    "cells": [
        {
            "cell_type": "markdown",
            "metadata": {
                "collapsed": true
            },
            "source": "# Business Problem"
        },
        {
            "cell_type": "markdown",
            "metadata": {},
            "source": "<font size=\"4\"> The problem that we are going to undertake here is of a restaurant location. In any city, restaurants are a part of the spirit and night life of the city, socially and culturally. In this report we focusing our attention to Downtown Toronto, a Borough of the largest city in Canada. Our focus is on finding the best neghborhood to open a restaurant in Downtown, Toronto. We have been tasked to find a optimum location for a restaurant to flourish, and this help our target audience of restauranteer that are loking to expand their franchise, or emerging one's that have just started food as a potential business of the future.</font>"
        },
        {
            "cell_type": "markdown",
            "metadata": {},
            "source": "## Process"
        },
        {
            "cell_type": "markdown",
            "metadata": {},
            "source": "<font size = \"4\"> The major variables in any restaurant locations are population and frequency of their visit to a restaurant. These two variables will be the deciding criterion to select a location for opening a restaurant. </font>"
        },
        {
            "cell_type": "markdown",
            "metadata": {},
            "source": "<font size = \"4\"> We are going to use the clustering method to understand, which neighborhood of Downtown, Toronto,based on the aforementioned variables. </font>"
        },
        {
            "cell_type": "markdown",
            "metadata": {},
            "source": "# What Data is Required ?"
        },
        {
            "cell_type": "markdown",
            "metadata": {},
            "source": "<font size = \"4\"> Main obstacle to any data science problem is collection of data, for the specified problem. For the problem we are focusin on, we need to look for the data, that have locations involved in it. We need to look specifically for restaurants and cafe's in any neighborhood, frequency of visits. </font>"
        },
        {
            "cell_type": "markdown",
            "metadata": {},
            "source": "# DATA"
        },
        {
            "cell_type": "markdown",
            "metadata": {},
            "source": "<font size = \"4\"> Our major source of Data is Foursquare. From their we collect the location data of different neighborhoods, focus mailny on cafe's and restaurants. We will be using Places Api to make some calls to collect the data for each neighborhood, and tabulate it in the dataframe. ut, before we start to collect the neighborhood information of Downtown, Toronto. That data has been collected from the wikipedia, postal codes. </font>"
        },
        {
            "cell_type": "code",
            "execution_count": null,
            "metadata": {},
            "outputs": [],
            "source": ""
        }
    ],
    "metadata": {
        "kernelspec": {
            "display_name": "Python 3.6",
            "language": "python",
            "name": "python3"
        },
        "language_info": {
            "codemirror_mode": {
                "name": "ipython",
                "version": 3
            },
            "file_extension": ".py",
            "mimetype": "text/x-python",
            "name": "python",
            "nbconvert_exporter": "python",
            "pygments_lexer": "ipython3",
            "version": "3.6.9"
        }
    },
    "nbformat": 4,
    "nbformat_minor": 1
}